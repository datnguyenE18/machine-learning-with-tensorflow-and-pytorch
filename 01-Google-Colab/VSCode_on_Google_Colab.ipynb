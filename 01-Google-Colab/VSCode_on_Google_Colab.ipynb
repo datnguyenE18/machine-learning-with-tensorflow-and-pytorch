{
  "nbformat": 4,
  "nbformat_minor": 0,
  "metadata": {
    "colab": {
      "name": "VSCode on Google Colab",
      "provenance": [],
      "collapsed_sections": [],
      "machine_shape": "hm",
      "include_colab_link": true
    },
    "kernelspec": {
      "name": "python3",
      "display_name": "Python 3"
    },
    "accelerator": "GPU"
  },
  "cells": [
    {
      "cell_type": "markdown",
      "metadata": {
        "id": "view-in-github",
        "colab_type": "text"
      },
      "source": [
        "<a href=\"https://colab.research.google.com/github/ProtonX-AI/machine-learning-with-tensorflow-and-pytorch/blob/master/01-Google-Colab/VSCode_on_Google_Colab.ipynb\" target=\"_parent\"><img src=\"https://colab.research.google.com/assets/colab-badge.svg\" alt=\"Open In Colab\"/></a>"
      ]
    },
    {
      "cell_type": "markdown",
      "metadata": {
        "id": "eiZZcSloMa3F",
        "colab_type": "text"
      },
      "source": [
        "Sử dụng GPU của Colab để chạy các File `Python` và tận dụng được các tiện ích của `VSCode`. Thành quả sau khi thực hiện với 3 bước đơn giản:"
      ]
    },
    {
      "cell_type": "markdown",
      "metadata": {
        "id": "6Q-KhygCJrT3",
        "colab_type": "text"
      },
      "source": [
        "![](https://imgur.com/VTvS3vl.png)"
      ]
    },
    {
      "cell_type": "markdown",
      "metadata": {
        "id": "q37aS5C3M2nY",
        "colab_type": "text"
      },
      "source": [
        "Bên dưới là các bước mô tả chi tiết và một số lưu ý, bạn có thể sử dụng Notebook này để thực hiện luôn: https://colab.research.google.com/drive/1yvUy5Gn9lPjmCQH6RjD_LvUO2NE0Z7RM?usp=sharing"
      ]
    },
    {
      "cell_type": "markdown",
      "metadata": {
        "id": "JscwGoRbF95u",
        "colab_type": "text"
      },
      "source": [
        "### Các bước thực hiện "
      ]
    },
    {
      "cell_type": "markdown",
      "metadata": {
        "id": "OvLYLamhGF_f",
        "colab_type": "text"
      },
      "source": [
        "**Bước 1**: Cài đặt gói [code-server](https://github.com/cdr/code-server) để chạy VSCode như 1 web app. "
      ]
    },
    {
      "cell_type": "code",
      "metadata": {
        "id": "HMAVi4RK6Rt0",
        "colab_type": "code",
        "colab": {
          "base_uri": "https://localhost:8080/",
          "height": 255
        },
        "outputId": "7071a7c6-310f-4e1d-ae74-f0a2f42f7f17"
      },
      "source": [
        "!curl -fsSL https://code-server.dev/install.sh | sh"
      ],
      "execution_count": null,
      "outputs": [
        {
          "output_type": "stream",
          "text": [
            "Ubuntu 18.04.3 LTS\n",
            "Installing v3.5.0 deb package from GitHub releases.\n",
            "\n",
            "+ Reusing ~/.cache/code-server/code-server_3.5.0_amd64.deb\n",
            "+ dpkg -i ~/.cache/code-server/code-server_3.5.0_amd64.deb\n",
            "(Reading database ... \r(Reading database ... 5%\r(Reading database ... 10%\r(Reading database ... 15%\r(Reading database ... 20%\r(Reading database ... 25%\r(Reading database ... 30%\r(Reading database ... 35%\r(Reading database ... 40%\r(Reading database ... 45%\r(Reading database ... 50%\r(Reading database ... 55%\r(Reading database ... 60%\r(Reading database ... 65%\r(Reading database ... 70%\r(Reading database ... 75%\r(Reading database ... 80%\r(Reading database ... 85%\r(Reading database ... 90%\r(Reading database ... 95%\r(Reading database ... 100%\r(Reading database ... 150362 files and directories currently installed.)\n",
            "Preparing to unpack .../code-server_3.5.0_amd64.deb ...\n",
            "Unpacking code-server (3.5.0) over (3.5.0) ...\n",
            "Setting up code-server (3.5.0) ...\n",
            "\n",
            "To have systemd start code-server now and restart on boot:\n",
            "  sudo systemctl enable --now code-server@$USER\n",
            "Or, if you don't want/need a background service you can run:\n",
            "  code-server\n"
          ],
          "name": "stdout"
        }
      ]
    },
    {
      "cell_type": "markdown",
      "metadata": {
        "id": "Ku5sernlGXvP",
        "colab_type": "text"
      },
      "source": [
        "**Bước 2**: Sau khi cài đặt `code-server` xong, chúng ta sẽ sử dụng `pyngrok` với port `9000` để kết nối tới máy chủ. Nhưng trước tiên, hãy cài đặt `pyngrok` bằng câu lệnh dưới đây:"
      ]
    },
    {
      "cell_type": "code",
      "metadata": {
        "id": "YOtvyK6DGr3c",
        "colab_type": "code",
        "colab": {}
      },
      "source": [
        "!pip install -qqq pyngrok"
      ],
      "execution_count": null,
      "outputs": []
    },
    {
      "cell_type": "markdown",
      "metadata": {
        "id": "qkgoW8HIG5FR",
        "colab_type": "text"
      },
      "source": [
        "**Bước 3**: Chạy lệnh dưới đây để lấy URL ngrok. Đây là URL để kết nối và truy cập vào `VSCode`,"
      ]
    },
    {
      "cell_type": "code",
      "metadata": {
        "id": "-WvICE4VGx0b",
        "colab_type": "code",
        "colab": {
          "base_uri": "https://localhost:8080/",
          "height": 34
        },
        "outputId": "e3d790e2-0b29-4eea-f0ae-8097bd516091"
      },
      "source": [
        "from pyngrok import ngrok\n",
        "url = ngrok.connect(port=9000)\n",
        "print(url)"
      ],
      "execution_count": null,
      "outputs": [
        {
          "output_type": "stream",
          "text": [
            "http://9c57c3525af6.ngrok.io\n"
          ],
          "name": "stdout"
        }
      ]
    },
    {
      "cell_type": "markdown",
      "metadata": {
        "id": "x_86Dr3FHLIT",
        "colab_type": "text"
      },
      "source": [
        "**Bước 4**: Khởi động máy chủ `code-server` VSCode ở chế độ port `9000`."
      ]
    },
    {
      "cell_type": "code",
      "metadata": {
        "id": "epHlXMx1HCsX",
        "colab_type": "code",
        "colab": {
          "base_uri": "https://localhost:8080/",
          "height": 34
        },
        "outputId": "8de5ea83-bee2-4dad-bb4c-e7548d31f343"
      },
      "source": [
        "!nohup code-server --port 9000 --auth none &"
      ],
      "execution_count": null,
      "outputs": [
        {
          "output_type": "stream",
          "text": [
            "nohup: appending output to 'nohup.out'\n"
          ],
          "name": "stdout"
        }
      ]
    },
    {
      "cell_type": "markdown",
      "metadata": {
        "id": "W0YH9Jb3HgnE",
        "colab_type": "text"
      },
      "source": [
        "Bây giờ bạn đã có thể truy cập URL trong bước 3 để sử dụng `VSCode Server`. Giao diện và chức năng của phiên bản này giống như VSCode trên máy tính.\n",
        "\n",
        "**Một vài chú ý**:\n",
        "- Bạn có thể sử dụng các phím tắt như trên VSCode trên máy tính.\n",
        "- Bạn cần cài đặt `Python` để code Python trong `Extensions`.\n",
        "- Để mở Terminal bạn có thể dùng tổ hợp phím: **Ctrl + Shift + `** hoặc **Ctrl + Shift + M**\n",
        "- Notebook trên Google Colab bạn vẫn có thể sử dụng để tải tệp tin, liên kết tới Google Drive để lấy dữ liệu, v.v..."
      ]
    },
    {
      "cell_type": "code",
      "metadata": {
        "id": "pTZFhkc_JuDN",
        "colab_type": "code",
        "colab": {
          "base_uri": "https://localhost:8080/",
          "height": 34
        },
        "outputId": "66e9f000-d0f0-4aa5-bdf3-00338e1c046a"
      },
      "source": [
        "from google.colab import drive\n",
        "drive.mount('/content/drive')"
      ],
      "execution_count": null,
      "outputs": [
        {
          "output_type": "stream",
          "text": [
            "Drive already mounted at /content/drive; to attempt to forcibly remount, call drive.mount(\"/content/drive\", force_remount=True).\n"
          ],
          "name": "stdout"
        }
      ]
    },
    {
      "cell_type": "markdown",
      "metadata": {
        "id": "I_-usuehKRVN",
        "colab_type": "text"
      },
      "source": [
        "**References Permalink**\n",
        "- [VSCode on Google Colab](https://amitness.com/vscode-on-colab/)\n",
        "- [Code-Server FAQs](https://github.com/cdr/code-server/blob/v3.5.0/doc/FAQ.md)\n",
        "- [pyngrok - a Python wrapper for ngrok](https://pyngrok.readthedocs.io/en/latest/)"
      ]
    }
  ]
}