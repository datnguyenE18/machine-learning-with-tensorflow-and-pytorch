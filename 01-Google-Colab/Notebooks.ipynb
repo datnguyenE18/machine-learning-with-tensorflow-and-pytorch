{
  "nbformat": 4,
  "nbformat_minor": 0,
  "metadata": {
    "colab": {
      "name": "\b[ProtonX] 01_Notebooks",
      "provenance": [],
      "collapsed_sections": [],
      "toc_visible": true,
      "include_colab_link": true
    },
    "kernelspec": {
      "name": "python3",
      "display_name": "Python 3"
    }
  },
  "cells": [
    {
      "cell_type": "markdown",
      "metadata": {
        "id": "view-in-github",
        "colab_type": "text"
      },
      "source": [
        "<a href=\"https://colab.research.google.com/github/ProtonX-AI/machine-learning-with-tensorflow-and-pytorch/blob/master/01-Google-Colab/Notebooks.ipynb\" target=\"_parent\"><img src=\"https://colab.research.google.com/assets/colab-badge.svg\" alt=\"Open In Colab\"/></a>"
      ]
    },
    {
      "cell_type": "markdown",
      "metadata": {
        "id": "pa5_r2M_ZzLG",
        "colab_type": "text"
      },
      "source": [
        "# Notebooks\n",
        "\n",
        "- Đọc thêm: \n",
        "  + [Giới thiệu và mẹo trong G-Colab](https://github.com/ProtonX-AI/machine-learning-with-tensorflow-and-pytorch/blob/master/01-Google-Colab/Tips_Google_Colab.ipynb)\n",
        "  + [VSCode on G-Colab](https://github.com/ProtonX-AI/machine-learning-with-tensorflow-and-pytorch/blob/master/01-Google-Colab/VSCode_on_Google_Colab.ipynb)"
      ]
    },
    {
      "cell_type": "markdown",
      "metadata": {
        "id": "-Nsq7J22UOGO",
        "colab_type": "text"
      },
      "source": [
        "# Setup "
      ]
    },
    {
      "cell_type": "markdown",
      "metadata": {
        "id": "Re6q2zNfUGJw",
        "colab_type": "text"
      },
      "source": [
        "1. Đăng nhập tài khoản Google của bạn để bắt đầu sử dụng Notebook. Nếu bạn không cần lưu lại các thao tác của mình thì có thể không cần đăng nhập.\n",
        "\n",
        "2. Nếu bạn muốn lưu lại các bước thực hiện của mình, thì hãy ấn **Copy to Drive** (Sao chép vào Drive).\n",
        "\n",
        "<div align=\"left\">\n",
        "&emsp;&emsp;<img src=\"https://raw.githubusercontent.com/madewithml/images/master/basics/01_Notebooks/copy_to_drive.png\" width=\"320\">\n",
        "</div>\n",
        "\n",
        "3. Bạn có thể đổi tên Notebook cho phù hợp.\n",
        "\n",
        "<div align=\"left\">\n",
        "&emsp;&emsp;<img src=\"https://raw.githubusercontent.com/madewithml/images/master/basics/01_Notebooks/rename.gif\" width=\"320\">\n",
        "</div>\n",
        "\n",
        "4. Bây giờ bạn có thể chạy code của mình, những thay đổi sẽ được lưu trong G-Drive của bạn.\n"
      ]
    },
    {
      "cell_type": "markdown",
      "metadata": {
        "id": "cOEaLCZAu4JQ",
        "colab_type": "text"
      },
      "source": [
        "# Types of cells"
      ]
    },
    {
      "cell_type": "markdown",
      "metadata": {
        "id": "WcOgqq5xvtMn",
        "colab_type": "text"
      },
      "source": [
        "Notebooks được tạo thành bởi các `cell`. Trong G-Colab có 2 loại là **code cell** và **text cell** (`Mã` và `Văn bản`)\n",
        "\n",
        "*   **code cell**: sử dụng để viết code python hoặc cài các thư viện, v.v...\n",
        "*   **text cell**: sử dụng để viết văn bản, HTML, Markdown, v.v...\n",
        "\n",
        "\n"
      ]
    },
    {
      "cell_type": "markdown",
      "metadata": {
        "id": "tBVFofpLutnn",
        "colab_type": "text"
      },
      "source": [
        "# Creating cells"
      ]
    },
    {
      "cell_type": "markdown",
      "metadata": {
        "id": "CfSTXDx9LClf",
        "colab_type": "text"
      },
      "source": [
        "Để tạo **text cell**. Nhấn vào **➕TEXT** (phía trên cùng góc bên trái).\n",
        "\n",
        "<div align=\"left\">\n",
        "<img src=\"https://raw.githubusercontent.com/madewithml/images/master/basics/01_Notebooks/add_text.png\" width=\"320\">\n",
        "<div align=\"left\">\n",
        "\n",
        "Khi nhấn tạo xong, bạn nhất vào Cell để viết văn bản bạn muốn:\n",
        "\n",
        "```\n",
        "### This is a header\n",
        "Hello world!\n",
        "```"
      ]
    },
    {
      "cell_type": "markdown",
      "metadata": {
        "id": "2O5EqrqbWBlH",
        "colab_type": "text"
      },
      "source": [
        "### This is a header\n",
        "Hello world!"
      ]
    },
    {
      "cell_type": "markdown",
      "metadata": {
        "id": "iXYgZpgpYS3N",
        "colab_type": "text"
      },
      "source": [
        "# Running cells"
      ]
    },
    {
      "cell_type": "markdown",
      "metadata": {
        "id": "8og2NZxaO7Nj",
        "colab_type": "text"
      },
      "source": [
        "Để thực hiện chạy `cell`, bạn có thể ấn **SHIFT + ENTER**."
      ]
    },
    {
      "cell_type": "markdown",
      "metadata": {
        "id": "WKTbiBuvYexD",
        "colab_type": "text"
      },
      "source": [
        "# Editing cells"
      ]
    },
    {
      "cell_type": "markdown",
      "metadata": {
        "id": "J_kM3zBEO9Zp",
        "colab_type": "text"
      },
      "source": [
        "Để sửa `cell`, nhấn 2 lần vào cell bạn muốn sửa. "
      ]
    },
    {
      "cell_type": "markdown",
      "metadata": {
        "id": "Jv0ZSuhNYVIU",
        "colab_type": "text"
      },
      "source": [
        "# Moving cells"
      ]
    },
    {
      "cell_type": "markdown",
      "metadata": {
        "id": "pv3XtKpLPAY6",
        "colab_type": "text"
      },
      "source": [
        "Để có thể di chuyển `cell` lên xuống, bạn ấn dấu mũi tên ⬆️ và ⬇️.\n",
        "\n",
        "<div align=\"left\">\n",
        "<img src=\"https://raw.githubusercontent.com/madewithml/images/master/basics/01_Notebooks/move_cells.png\" width=\"500\">\n",
        "</div>"
      ]
    },
    {
      "cell_type": "markdown",
      "metadata": {
        "id": "B_VGiYf8YXiU",
        "colab_type": "text"
      },
      "source": [
        "# Deleting cells"
      ]
    },
    {
      "cell_type": "markdown",
      "metadata": {
        "colab_type": "text",
        "id": "vKrqxJEmTfQU"
      },
      "source": [
        "Để xoá `cell`, bạn ấn vào biểu tượng 🗑️ hoặc sử dụng phím tắt `⌘/Ctrl + M + D`.\n",
        "\n",
        "<div align=\"left\">\n",
        "<img src=\"https://raw.githubusercontent.com/madewithml/images/master/basics/01_Notebooks/delete_cells.png\" width=\"500\">\n",
        "</div>"
      ]
    },
    {
      "cell_type": "markdown",
      "metadata": {
        "id": "hxl7Fk8LVQmR",
        "colab_type": "text"
      },
      "source": [
        "# Creating a code cell\n"
      ]
    },
    {
      "cell_type": "markdown",
      "metadata": {
        "id": "lnvxXte0PB0p",
        "colab_type": "text"
      },
      "source": [
        "Để thực thi mã code, bạn ấn vào **➕CODE** trên góc trái.\n",
        "\n",
        "<div align=\"left\">\n",
        "<img src=\"https://raw.githubusercontent.com/madewithml/images/master/basics/01_Notebooks/add_code.png\" width=\"320\">\n",
        "</div>\n",
        "\n",
        "Để chạy mã, bạn có thể ấn `Shift + Enter`\n",
        "\n",
        "```\n",
        "print (\"Hello world!\")\n",
        "```"
      ]
    },
    {
      "cell_type": "code",
      "metadata": {
        "id": "DfGf9KmQ3DJM",
        "colab_type": "code",
        "colab": {
          "base_uri": "https://localhost:8080/",
          "height": 34
        },
        "outputId": "f671fb4d-0a54-436d-d8b5-487c821c4437"
      },
      "source": [
        "print (\"Hello world!\")"
      ],
      "execution_count": 1,
      "outputs": [
        {
          "output_type": "stream",
          "text": [
            "Hello world!\n"
          ],
          "name": "stdout"
        }
      ]
    },
    {
      "cell_type": "markdown",
      "metadata": {
        "id": "r2w9xzDkuAXw",
        "colab_type": "text"
      },
      "source": [
        "Đây là những khái niệm căn bản nhất khi sử dụng Notebook Google Colab."
      ]
    },
    {
      "cell_type": "markdown",
      "metadata": {
        "id": "MeE6daOaK8rb",
        "colab_type": "text"
      },
      "source": [
        "---\n",
        "Tài liệu được tham khảo từ: <a href=\"https://madewithml.com/\">Made With ML</a>.\n"
      ]
    }
  ]
}