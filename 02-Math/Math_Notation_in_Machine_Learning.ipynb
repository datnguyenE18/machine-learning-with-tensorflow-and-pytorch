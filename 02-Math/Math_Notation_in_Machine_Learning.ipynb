{
  "nbformat": 4,
  "nbformat_minor": 0,
  "metadata": {
    "kernelspec": {
      "display_name": "Python 3",
      "language": "python",
      "name": "python3"
    },
    "language_info": {
      "codemirror_mode": {
        "name": "ipython",
        "version": 3
      },
      "file_extension": ".py",
      "mimetype": "text/x-python",
      "name": "python",
      "nbconvert_exporter": "python",
      "pygments_lexer": "ipython3",
      "version": "3.7.3"
    },
    "colab": {
      "name": "Math Notation in Machine Learning",
      "provenance": [],
      "collapsed_sections": [],
      "include_colab_link": true
    }
  },
  "cells": [
    {
      "cell_type": "markdown",
      "metadata": {
        "id": "view-in-github",
        "colab_type": "text"
      },
      "source": [
        "<a href=\"https://colab.research.google.com/github/ProtonX-AI/machine-learning-with-tensorflow-and-pytorch/blob/master/02-Math/Math_Notation_in_Machine_Learning.ipynb\" target=\"_parent\"><img src=\"https://colab.research.google.com/assets/colab-badge.svg\" alt=\"Open In Colab\"/></a>"
      ]
    },
    {
      "cell_type": "markdown",
      "metadata": {
        "id": "eXkI9OvfgxjF",
        "colab_type": "text"
      },
      "source": [
        "### Ký hiệu toán thường dùng trong Machine Learning \n",
        "\n",
        "Bảng tổng kết dưới đây là những ký hiệu toán học thường được sử dụng trong Machine Learning"
      ]
    },
    {
      "cell_type": "markdown",
      "metadata": {
        "id": "7dgjn3fYgxjU",
        "colab_type": "text"
      },
      "source": [
        "### Đại số \n",
        "\n",
        "<img src=\"https://github.com/thanhhff/AIVN-Machine-Learning/blob/master/Week%201/images/algebra.png?raw=1\" style=\"width:80%;height:80%;\"> \n"
      ]
    },
    {
      "cell_type": "markdown",
      "metadata": {
        "id": "ckGvo8vfgxjV",
        "colab_type": "text"
      },
      "source": [
        "### Phép toán \n",
        "\n",
        "<img src=\"https://github.com/thanhhff/AIVN-Machine-Learning/blob/master/Week%201/images/calculus.png?raw=1\" style=\"width:80%;height:80%;\"> \n"
      ]
    },
    {
      "cell_type": "markdown",
      "metadata": {
        "id": "cMToI8yhgxjW",
        "colab_type": "text"
      },
      "source": [
        "### Đại số tuyến tính \n",
        "\n",
        "<img src=\"https://github.com/thanhhff/AIVN-Machine-Learning/blob/master/Week%201/images/linear-algebra.png?raw=1\" style=\"width:80%;height:80%;\"> \n"
      ]
    },
    {
      "cell_type": "markdown",
      "metadata": {
        "id": "ihxl8Tm8gxjZ",
        "colab_type": "text"
      },
      "source": [
        "### Xác suất"
      ]
    },
    {
      "cell_type": "markdown",
      "metadata": {
        "id": "SVlMh5vmgxjj",
        "colab_type": "text"
      },
      "source": [
        "<img src=\"https://github.com/thanhhff/AIVN-Machine-Learning/blob/master/Week%201/images/probability.png?raw=1\" style=\"width:80%;height:80%;\"> \n"
      ]
    },
    {
      "cell_type": "markdown",
      "metadata": {
        "id": "5Ij6jyF5gxjk",
        "colab_type": "text"
      },
      "source": [
        "### Thống kê \n",
        "\n",
        "<img src=\"https://github.com/thanhhff/AIVN-Machine-Learning/blob/master/Week%201/images/statistics.png?raw=1\" style=\"width:80%;height:80%;\"> \n"
      ]
    },
    {
      "cell_type": "markdown",
      "metadata": {
        "id": "l4zdB_lEgxjk",
        "colab_type": "text"
      },
      "source": [
        "### Set \n",
        "\n",
        "<img src=\"https://github.com/thanhhff/AIVN-Machine-Learning/blob/master/Week%201/images/set-theory.png?raw=1\" style=\"width:80%;height:80%;\"> \n"
      ]
    },
    {
      "cell_type": "markdown",
      "metadata": {
        "id": "r4drCMkpgxjl",
        "colab_type": "text"
      },
      "source": [
        "### Tài liệu tham khảo \n",
        "\n",
        "[1] [Math Notation in Machine Learning](https://ml-cheatsheet.readthedocs.io/en/latest/math_notation.html#statistics)"
      ]
    }
  ]
}