{
  "nbformat": 4,
  "nbformat_minor": 0,
  "metadata": {
    "kernelspec": {
      "display_name": "Python 3",
      "language": "python",
      "name": "python3"
    },
    "language_info": {
      "codemirror_mode": {
        "name": "ipython",
        "version": 3
      },
      "file_extension": ".py",
      "mimetype": "text/x-python",
      "name": "python",
      "nbconvert_exporter": "python",
      "pygments_lexer": "ipython3",
      "version": "3.7.3"
    },
    "colab": {
      "name": "Linear-Algebra.ipynb",
      "provenance": [],
      "include_colab_link": true
    }
  },
  "cells": [
    {
      "cell_type": "markdown",
      "metadata": {
        "id": "view-in-github",
        "colab_type": "text"
      },
      "source": [
        "<a href=\"https://colab.research.google.com/github/ProtonX-AI/machine-learning-with-tensorflow-and-pytorch/blob/master/02-Math/Linear_Algebra.ipynb\" target=\"_parent\"><img src=\"https://colab.research.google.com/assets/colab-badge.svg\" alt=\"Open In Colab\"/></a>"
      ]
    },
    {
      "cell_type": "markdown",
      "metadata": {
        "id": "8UZIUGyxYYod",
        "colab_type": "text"
      },
      "source": [
        "## Đại Số Tuyến Tính \n",
        "\n",
        "<img src=\"https://github.com/thanhhff/AIVN-Machine-Learning/blob/master/Week%201/images/Linear-Algebra/intro2.png?raw=1\" style=\"width:80%;height:80%;\"> \n"
      ]
    },
    {
      "cell_type": "markdown",
      "metadata": {
        "id": "hfXh6pKTYYoe",
        "colab_type": "text"
      },
      "source": [
        "Đại số tuyến tính là một công cụ toán học được ứng dụng nhiều trong Machine Learning / Deep Learning. Một cách hiểu đơn giản, nó là một kỹ thuật giúp chúng ta có thể thao tác nhiều dữ liệu một cách đồng thời. \n",
        "\n",
        "Đại số tuyến tính cung cấp một số cấu trúc như: vecto, ma trận (gọi chung là `Tensor`) cùng với các phép toán nhân, chia, cộng, trừ... giữa chúng. \n",
        "\n",
        "Nội dung bài viết này được tham khảo trong bài viết [Linear Algebra for Deep Learning](https://towardsdatascience.com/linear-algebra-cheat-sheet-for-deep-learning-cd67aba4526c)"
      ]
    },
    {
      "cell_type": "markdown",
      "metadata": {
        "id": "1B46yCbmYYof",
        "colab_type": "text"
      },
      "source": [
        "### Đại số tuyến tính giúp chúng ta như thế nào?"
      ]
    },
    {
      "cell_type": "markdown",
      "metadata": {
        "id": "mtx_gQbsYYof",
        "colab_type": "text"
      },
      "source": [
        "Trước hết, chúng ta hãy cùng nhau xét bài toán nhân giá trị của 2 mảng với nhau. Với cách thông thường sử dụng vòng lặp `for` để duyệt từng phần tử:"
      ]
    },
    {
      "cell_type": "code",
      "metadata": {
        "id": "0Lzz4mygYYog",
        "colab_type": "code",
        "colab": {
          "base_uri": "https://localhost:8080/",
          "height": 34
        },
        "outputId": "fbb7117e-614d-474f-acd0-8145a60a194a"
      },
      "source": [
        "# Multiply two arrays \n",
        "x = [1,2,3]\n",
        "y = [2,3,4]\n",
        "product = []\n",
        "for i in range(len(x)):\n",
        "    product.append(x[i]*y[i])\n",
        "    \n",
        "print(product)"
      ],
      "execution_count": 5,
      "outputs": [
        {
          "output_type": "stream",
          "text": [
            "[2, 6, 12]\n"
          ],
          "name": "stdout"
        }
      ]
    },
    {
      "cell_type": "markdown",
      "metadata": {
        "id": "kv5p9v5PYYos",
        "colab_type": "text"
      },
      "source": [
        "Sử dụng đại số tuyến tính, đưa các giá trị vào thành vector:"
      ]
    },
    {
      "cell_type": "code",
      "metadata": {
        "id": "ybqUUFw5YYos",
        "colab_type": "code",
        "colab": {
          "base_uri": "https://localhost:8080/",
          "height": 34
        },
        "outputId": "a8c47a00-4e14-4c1a-cdbe-b1aecbdba2d2"
      },
      "source": [
        "import numpy as np \n",
        "\n",
        "# Linear algebra version\n",
        "x = np.array([1,2,3])\n",
        "y = np.array([2,3,4])\n",
        "x * y"
      ],
      "execution_count": 6,
      "outputs": [
        {
          "output_type": "execute_result",
          "data": {
            "text/plain": [
              "array([ 2,  6, 12])"
            ]
          },
          "metadata": {
            "tags": []
          },
          "execution_count": 6
        }
      ]
    },
    {
      "cell_type": "markdown",
      "metadata": {
        "id": "NTtLHdu1YYov",
        "colab_type": "text"
      },
      "source": [
        "Việc sử dụng các phép toán trong đại số tuyến tính giúp chúng ta tính toán nhanh hơn và câu lệnh đơn giản hơn so với cách tính thông thường. Chúng ta hãy cùng nhau xét các nội dung sau:"
      ]
    },
    {
      "cell_type": "markdown",
      "metadata": {
        "id": "4POJo1JlYYow",
        "colab_type": "text"
      },
      "source": [
        "### Nội dung \n",
        "\n",
        "1. Vectors\n",
        "    - Ký hiệu \n",
        "    - Vectors trong hình học \n",
        "    - Scalar operations\n",
        "    - Elementwise operations\n",
        "    - Dot product\n",
        "    - Hadamard product\n",
        "    \n",
        "2. Matrices\n",
        "    - Kích thước ma trận \n",
        "    - Scalar operations\n",
        "    - Elementwise operations\n",
        "    - Hadamard product\n",
        "    - Matrix transpose (ma trận chuyển vị)\n",
        "    - Matrix multiplication (nhân ma trận)\n",
        "    \n",
        "3. Numpy\n",
        "    - Dot product\n",
        "    - Broadcasting"
      ]
    },
    {
      "cell_type": "markdown",
      "metadata": {
        "id": "_ylYQLINYYow",
        "colab_type": "text"
      },
      "source": [
        "### 1. Vectors \n",
        "\n",
        "Vectors là mảng 1 chiều của một số hay các số hạng. Trong hình học, vectors bao gồm độ lớn và hướng của nó. Ví dụ vector [-2, 5] có hướng sang trái -2 và đi lên 5.\n",
        "\n",
        "Vectors có nhiều chiều được gọi là Matrix.\n",
        "\n",
        "#### 1.1 Ký hiệu \n",
        "\n",
        "Có nhiều cách ký hiệu vectors khác nhau, hình ảnh bên dưới miêu tả một số cách ký hiệu thường gặp:\n",
        "\n",
        "<img src=\"https://github.com/thanhhff/AIVN-Machine-Learning/blob/master/Week%201/images/Linear-Algebra/la_0.png?raw=1\" style=\"width:30%;height:30%;\"> \n"
      ]
    },
    {
      "cell_type": "markdown",
      "metadata": {
        "id": "zEOIdJxeYYox",
        "colab_type": "text"
      },
      "source": [
        "#### 1.2 Vectors trong hình học \n",
        "\n",
        "Vector thường đại diện cho sự chuyển động từ một điểm, nó lưu trữ độ lớn và hướng đi. Độ lớn của nó bằng chiều dài của cạnh huyền. Ví dụ vector [-2, 5] có hướng sang trái -2 và đi lên 5, độ lớn: $\\sqrt{29}$.\n",
        "\n",
        "<img src=\"https://github.com/thanhhff/AIVN-Machine-Learning/blob/master/Week%201/images/Linear-Algebra/la_1.png?raw=1\" style=\"width:40%;height:40%;\"> \n",
        "\n"
      ]
    },
    {
      "cell_type": "markdown",
      "metadata": {
        "id": "IUv3ZtVGYYo3",
        "colab_type": "text"
      },
      "source": [
        "#### 1.3 Scalar operations\n",
        "\n",
        "Scalar là một vô hướng hay chính là một số. Scalar operations là các phép toán liên quan giữa vô hướng và vector. Chúng ta có thể thay đổi toàn bộ giá trị của vector bằng các phép toán: cộng, trừ, nhân, chia, ...\n",
        "\n",
        "<img src=\"https://github.com/thanhhff/AIVN-Machine-Learning/blob/master/Week%201/images/Linear-Algebra/la_2.png?raw=1\" style=\"width:20%;height:20%;\"> \n",
        "\n"
      ]
    },
    {
      "cell_type": "markdown",
      "metadata": {
        "id": "sy0kad7oYYo3",
        "colab_type": "text"
      },
      "source": [
        "#### 1.4 Elementwise operations\n",
        "\n",
        "Khi thực hiện các phép toán: cộng, trừ, nhân, chia... các vector, **Elementwise** cho phép thực hiện các phép toán này từng vị trí tương ứng giữa các Vector. \n",
        "\n",
        "Ví dụ: phần tử thứ 1 của Vecto A sẽ thực hiện cộng với phần tử thứ 1 của Vector B, phần tử thứ 2 của A sẽ thực hiện tương ứng với phần tử thứ 2 của B, ...\n",
        "\n",
        "<img src=\"https://github.com/thanhhff/AIVN-Machine-Learning/blob/master/Week%201/images/Linear-Algebra/la_3.png?raw=1\" style=\"width:30%;height:30%;\"> \n"
      ]
    },
    {
      "cell_type": "code",
      "metadata": {
        "id": "ftDoLvg_YYo4",
        "colab_type": "code",
        "colab": {
          "base_uri": "https://localhost:8080/",
          "height": 68
        },
        "outputId": "6ad3bf88-d870-4632-8301-f2da582d3674"
      },
      "source": [
        "y = np.array([1,2,3])\n",
        "x = np.array([2,3,4])\n",
        "\n",
        "print(\"Giá trị của x + y: \", x + y)\n",
        "print(\"Giá trị của x - y: \", x - y)\n",
        "print(\"Giá trị của x / y: \", x / y)"
      ],
      "execution_count": 9,
      "outputs": [
        {
          "output_type": "stream",
          "text": [
            "Giá trị của x + y:  [3 5 7]\n",
            "Giá trị của x - y:  [1 1 1]\n",
            "Giá trị của x / y:  [2.         1.5        1.33333333]\n"
          ],
          "name": "stdout"
        }
      ]
    },
    {
      "cell_type": "markdown",
      "metadata": {
        "id": "HpeSTF6zYYo7",
        "colab_type": "text"
      },
      "source": [
        "#### 1.5 Phép nhân Vector "
      ]
    },
    {
      "cell_type": "markdown",
      "metadata": {
        "id": "jNhqnWAcYYo7",
        "colab_type": "text"
      },
      "source": [
        "Có 2 kiểu nhân Vector là: phép **Dot product** và **Hadamard product**. \n",
        "\n",
        "*(Cần chú ý 2 kiểu nhân này để tránh nhầm lẫn)*\n"
      ]
    },
    {
      "cell_type": "markdown",
      "metadata": {
        "id": "-8cu1VelYYo8",
        "colab_type": "text"
      },
      "source": [
        "#### 1.5.1 Dot product \n",
        "\n",
        "Tích của 2 vector sẽ là một **vô hướng (scalar)**.\n",
        "\n",
        "<img src=\"https://github.com/thanhhff/AIVN-Machine-Learning/blob/master/Week%201/images/Linear-Algebra/la_4.png?raw=1\" style=\"width:30%;height:30%;\"> \n"
      ]
    },
    {
      "cell_type": "code",
      "metadata": {
        "id": "h2op4URMYYo8",
        "colab_type": "code",
        "colab": {
          "base_uri": "https://localhost:8080/",
          "height": 34
        },
        "outputId": "7f7d80e2-273c-4d14-f2e6-277992046514"
      },
      "source": [
        "y = np.array([1,2,3])\n",
        "x = np.array([2,3,4])\n",
        "np.dot(y,x)"
      ],
      "execution_count": 10,
      "outputs": [
        {
          "output_type": "execute_result",
          "data": {
            "text/plain": [
              "20"
            ]
          },
          "metadata": {
            "tags": []
          },
          "execution_count": 10
        }
      ]
    },
    {
      "cell_type": "markdown",
      "metadata": {
        "id": "B5inGB99YYpA",
        "colab_type": "text"
      },
      "source": [
        "#### 1.5.2 Hadamard product "
      ]
    },
    {
      "cell_type": "markdown",
      "metadata": {
        "id": "eqSvdlSVYYpB",
        "colab_type": "text"
      },
      "source": [
        "Hadamard product sẽ thực hiện phép nhân **elementwise** để tạo ra vector mới.\n",
        "\n",
        "<img src=\"https://github.com/thanhhff/AIVN-Machine-Learning/blob/master/Week%201/images/Linear-Algebra/la_5.png?raw=1\" style=\"width:30%;height:30%;\"> \n"
      ]
    },
    {
      "cell_type": "code",
      "metadata": {
        "id": "kp7aHPkLYYpD",
        "colab_type": "code",
        "colab": {
          "base_uri": "https://localhost:8080/",
          "height": 34
        },
        "outputId": "de83677e-39b5-4993-a474-1e0d53a512ca"
      },
      "source": [
        "y = np.array([1,2,3])\n",
        "x = np.array([2,3,4])\n",
        "y * x "
      ],
      "execution_count": 11,
      "outputs": [
        {
          "output_type": "execute_result",
          "data": {
            "text/plain": [
              "array([ 2,  6, 12])"
            ]
          },
          "metadata": {
            "tags": []
          },
          "execution_count": 11
        }
      ]
    },
    {
      "cell_type": "markdown",
      "metadata": {
        "id": "HMbHgC4JYYpG",
        "colab_type": "text"
      },
      "source": [
        "### 2. Matrices\n",
        "\n",
        "Matrices (ma trận) là một lưới hình chữ nhật (Ví dụ điển hình có thể kể tới như bảng tính Excel). "
      ]
    },
    {
      "cell_type": "markdown",
      "metadata": {
        "id": "yP6MlqciYYpG",
        "colab_type": "text"
      },
      "source": [
        "#### 2.1 Kích thước ma trận \n",
        "\n",
        "Kích thước của ma trận = `[ số hàng x số cột ]`.\n",
        "\n",
        "<img src=\"https://github.com/thanhhff/AIVN-Machine-Learning/blob/master/Week%201/images/Linear-Algebra/la_6.png?raw=1\" style=\"width:30%;height:30%;\"> \n",
        "\n",
        "Khi viết ma trận ký hiệu sẽ thường là chữ in hoa. "
      ]
    },
    {
      "cell_type": "code",
      "metadata": {
        "id": "Cjef8lK8YYpH",
        "colab_type": "code",
        "colab": {
          "base_uri": "https://localhost:8080/",
          "height": 51
        },
        "outputId": "a35dbe97-df08-41a5-fdcb-d71975f45926"
      },
      "source": [
        "A = np.array([[1,2,3], \n",
        "             [4,5,6]])\n",
        "\n",
        "print(\"Shape A: \", A.shape)\n",
        "B = np.array([[1,2,3]])\n",
        "\n",
        "print(\"Shape B: \", B.shape)"
      ],
      "execution_count": 14,
      "outputs": [
        {
          "output_type": "stream",
          "text": [
            "Shape A:  (2, 3)\n",
            "Shape B:  (1, 3)\n"
          ],
          "name": "stdout"
        }
      ]
    },
    {
      "cell_type": "markdown",
      "metadata": {
        "id": "SfxG_S-sYYpK",
        "colab_type": "text"
      },
      "source": [
        "#### 2.2 Scalar operations\n",
        "\n",
        "Các phép toán liên quan tới Scalar của Matrix có cách hoạt động tương tự với Vector.\n",
        "\n",
        "<img src=\"https://github.com/thanhhff/AIVN-Machine-Learning/blob/master/Week%201/images/Linear-Algebra/la_7.png?raw=1\" style=\"width:30%;height:30%;\"> \n"
      ]
    },
    {
      "cell_type": "code",
      "metadata": {
        "id": "X3_FQ1fcYYpL",
        "colab_type": "code",
        "colab": {
          "base_uri": "https://localhost:8080/",
          "height": 51
        },
        "outputId": "14a59a68-ec1a-4f0e-ecc9-73553cc69e90"
      },
      "source": [
        "A = np.array([[1,2], \n",
        "              [3,4]])\n",
        "A + 1"
      ],
      "execution_count": 15,
      "outputs": [
        {
          "output_type": "execute_result",
          "data": {
            "text/plain": [
              "array([[2, 3],\n",
              "       [4, 5]])"
            ]
          },
          "metadata": {
            "tags": []
          },
          "execution_count": 15
        }
      ]
    },
    {
      "cell_type": "markdown",
      "metadata": {
        "id": "TACEkdI2YYpP",
        "colab_type": "text"
      },
      "source": [
        "#### 2.3 Elementwise operations\n",
        "\n",
        "Để có thể thực hiện phép Elemenetwise trên Matrix, các Matrix phải có **cùng kích thước** với nhau. Chúng ta sẽ thực hiện kết hợp các giá trị tương ứng với từng vị trí của các Matrix với nhau để tạo ra 1 Matrix mới. \n",
        "\n",
        "<img src=\"https://github.com/thanhhff/AIVN-Machine-Learning/blob/master/Week%201/images/Linear-Algebra/la_8.png?raw=1\" style=\"width:30%;height:30%;\"> "
      ]
    },
    {
      "cell_type": "code",
      "metadata": {
        "id": "G2maLLwlYYpP",
        "colab_type": "code",
        "colab": {
          "base_uri": "https://localhost:8080/",
          "height": 68
        },
        "outputId": "0468382a-bac4-4617-eab3-26ffb707785a"
      },
      "source": [
        "A = np.array([[1,2],\n",
        "              [3,4]])\n",
        "B = np.array([[1,2],\n",
        "              [3,4]])\n",
        "\n",
        "print(\"A + B: \\n\",a + b)"
      ],
      "execution_count": 16,
      "outputs": [
        {
          "output_type": "stream",
          "text": [
            "A + B: \n",
            " [[2 4 6]\n",
            " [5 7 9]]\n"
          ],
          "name": "stdout"
        }
      ]
    },
    {
      "cell_type": "markdown",
      "metadata": {
        "id": "ZmqoO6lYYYpT",
        "colab_type": "text"
      },
      "source": [
        "#### 2.4 Hadamard product\n",
        "\n",
        "Matrix hadamard product sẽ thực hiện phép nhân **elementwise**.\n",
        "\n",
        "<img src=\"https://github.com/thanhhff/AIVN-Machine-Learning/blob/master/Week%201/images/Linear-Algebra/la_9.png?raw=1\" style=\"width:40%;height:40%;\"> "
      ]
    },
    {
      "cell_type": "code",
      "metadata": {
        "id": "DiOJUeStYYpT",
        "colab_type": "code",
        "colab": {
          "base_uri": "https://localhost:8080/",
          "height": 51
        },
        "outputId": "6b4b3b3b-be7e-455a-d8b7-0ad4a0c994be"
      },
      "source": [
        "A = np.array([[2,3],\n",
        "              [2,3]])\n",
        "\n",
        "B = np.array([[3,4],\n",
        "            [5,6]])\n",
        "\n",
        "# Uses python's multiply operator\n",
        "A * B "
      ],
      "execution_count": 17,
      "outputs": [
        {
          "output_type": "execute_result",
          "data": {
            "text/plain": [
              "array([[ 6, 12],\n",
              "       [10, 18]])"
            ]
          },
          "metadata": {
            "tags": []
          },
          "execution_count": 17
        }
      ]
    },
    {
      "cell_type": "markdown",
      "metadata": {
        "id": "sGfykxxNYYpW",
        "colab_type": "text"
      },
      "source": [
        "Trong Python, chúng ta có thể sử dụng phép Hadamard giữa vector và matrix. Khi đó, Python sẽ sử dụng phương thức broadcasting (chúng ta sẽ tìm hiểu phương thức này bên dưới).\n",
        "\n",
        "<img src=\"https://github.com/thanhhff/AIVN-Machine-Learning/blob/master/Week%201/images/Linear-Algebra/la_10.png?raw=1\" style=\"width:40%;height:40%;\"> "
      ]
    },
    {
      "cell_type": "markdown",
      "metadata": {
        "id": "85bbn_eiYYpX",
        "colab_type": "text"
      },
      "source": [
        "#### 2.5 Ma trận chuyển vị \n",
        "\n",
        "Chuyển vị của một ma trận là một ma trận mới nhận được từ ma trận cũ thông qua phép phản xạ gương qua đường chéo chính của ma trận ban đầu. Một cách hiểu đơn giản: **các giá trị của hàng sẽ thành cột và cột sẽ thành hàng**. \n",
        "\n",
        "Ma trận chuyển vị thường được ký hiệu bằng chữ $T$. Ví dụ chuyển vị của ma trận $M$ được ký hiệu $M^T$\n",
        "\n",
        "Ví dụ: với M là ma trận ban đầu, T là ma trận chuyển vị.\n",
        "<img src=\"https://github.com/thanhhff/AIVN-Machine-Learning/blob/master/Week%201/images/Linear-Algebra/la_11.png?raw=1\" style=\"width:20%;height:20%;\"> "
      ]
    },
    {
      "cell_type": "markdown",
      "metadata": {
        "id": "M-sY8N3xYYpa",
        "colab_type": "text"
      },
      "source": [
        "Nếu $A^T = A$ thì ta nói A là một **ma trận đối xứng**."
      ]
    },
    {
      "cell_type": "code",
      "metadata": {
        "id": "uRBSHzSlYYpa",
        "colab_type": "code",
        "colab": {
          "base_uri": "https://localhost:8080/",
          "height": 51
        },
        "outputId": "5dfbb977-1d55-4aec-d8ef-6c2e980a239a"
      },
      "source": [
        "A = np.array([[1, 2], \n",
        "              [2, 4]])\n",
        "\n",
        "print(A.T)"
      ],
      "execution_count": 19,
      "outputs": [
        {
          "output_type": "stream",
          "text": [
            "[[1 2]\n",
            " [2 4]]\n"
          ],
          "name": "stdout"
        }
      ]
    },
    {
      "cell_type": "markdown",
      "metadata": {
        "id": "WyVQ_EE9YYpd",
        "colab_type": "text"
      },
      "source": [
        "#### 2.6 Matrix multiplication (nhân ma trận)\n",
        "\n",
        "Cho hai ma trận $A (m$ x $n), B (n $ x $p)$, tích của hai ma trận được ký hiệu là $C = AB$ khi đó $C$ có kích thước $m$ x $p$. Ma trận C được tạo thành được tính như hình dưới đây:\n",
        "\n",
        "<img src=\"https://github.com/thanhhff/AIVN-Machine-Learning/blob/master/Week%201/images/Linear-Algebra/la_12.png?raw=1\" style=\"width:40%;height:40%;\"> "
      ]
    },
    {
      "cell_type": "markdown",
      "metadata": {
        "id": "7gEzji--YYpd",
        "colab_type": "text"
      },
      "source": [
        "**Chú ý:** để nhân được hai ma trận, số cột của ma trận thứ nhất phải bằng số hàng của ma trận thứ hai. "
      ]
    },
    {
      "cell_type": "markdown",
      "metadata": {
        "id": "dxaK3lwsYYpe",
        "colab_type": "text"
      },
      "source": [
        "Một số tính chất của ma trận:\n",
        "   - Phép nhân ma trận **không** có tính chất giao hoán.\n",
        "   - Phép nhân ma trận có tính kết hợp: $ABC = (AB)C = A(BC)$\n",
        "   - Phép nhân ma trận có tính giao hoán: $A(B+C) = AB + AC$\n",
        "   - Chuyển vị của một tích bằng tích chuyển vị theo thứ tự ngược lại: $(AB)^T = B^TA^T$"
      ]
    },
    {
      "cell_type": "markdown",
      "metadata": {
        "id": "wmjdSJW3YYpe",
        "colab_type": "text"
      },
      "source": [
        "### 3. Numpy "
      ]
    },
    {
      "cell_type": "markdown",
      "metadata": {
        "id": "dQfGT4p-YYpe",
        "colab_type": "text"
      },
      "source": [
        "#### 3.1 Dot product\n",
        "\n",
        "Chúng ta sẽ sử dụng function `np.dot` (numpy.dot) để thực hiện phép Dot product (nhân ma trận). Các bạn cần chú ý về kích thước của các phần tử khi thực hiên phép toán."
      ]
    },
    {
      "cell_type": "code",
      "metadata": {
        "id": "Nrc1ITDCYYpf",
        "colab_type": "code",
        "colab": {
          "base_uri": "https://localhost:8080/",
          "height": 102
        },
        "outputId": "30c881c0-7348-44e3-cf07-44e7c3127cfe"
      },
      "source": [
        "import numpy as np \n",
        "\n",
        "A = np.array([[1, 2]])\n",
        "print('A_shape: ', A.shape)\n",
        "\n",
        "B = np.array([[3, 4],\n",
        "              [5, 6]])\n",
        "print('B_shape: ', B.shape)\n",
        "\n",
        "\n",
        "# Multiply\n",
        "mm = np.dot(A,B)\n",
        "print('mm: \\n', mm)\n",
        "print('mm_shape: ', mm.shape)"
      ],
      "execution_count": 20,
      "outputs": [
        {
          "output_type": "stream",
          "text": [
            "A_shape:  (1, 2)\n",
            "B_shape:  (2, 2)\n",
            "mm: \n",
            " [[13 16]]\n",
            "mm_shape:  (1, 2)\n"
          ],
          "name": "stdout"
        }
      ]
    },
    {
      "cell_type": "markdown",
      "metadata": {
        "id": "mPGaUeUUYYpi",
        "colab_type": "text"
      },
      "source": [
        "#### 3.2 Broadcasting \n",
        "\n",
        "Broadcasting cho phép thực thi các phép toán trên các mảng có kích thước khác nhau. \n",
        "\n",
        "- Đọc thêm chi tiết trong bài [Numpy - Python](https://nbviewer.jupyter.org/github/thanhhff/AIVN-Machine-Learning/blob/master/Week%202/Python-Numpy.ipynb)"
      ]
    },
    {
      "cell_type": "code",
      "metadata": {
        "id": "8fMf7rIyYYpu",
        "colab_type": "code",
        "colab": {
          "base_uri": "https://localhost:8080/",
          "height": 85
        },
        "outputId": "62cfb53c-80e3-4ca3-d2bc-ebfd140534b8"
      },
      "source": [
        "import numpy as np\n",
        "\n",
        "X = np.array([[1,2,3],[4,5,6],[7,8,9],[10,11,12]])\n",
        "v = np.array([1,0,1])\n",
        "Y = X + v \n",
        "print(Y)"
      ],
      "execution_count": 21,
      "outputs": [
        {
          "output_type": "stream",
          "text": [
            "[[ 2  2  4]\n",
            " [ 5  5  7]\n",
            " [ 8  8 10]\n",
            " [11 11 13]]\n"
          ],
          "name": "stdout"
        }
      ]
    },
    {
      "cell_type": "markdown",
      "metadata": {
        "id": "-C2Yz-cjYYpw",
        "colab_type": "text"
      },
      "source": [
        "<img src=\"https://github.com/thanhhff/AIVN-Machine-Learning/blob/master/Week%201/images/Linear-Algebra/chap5_np_32.png?raw=1\" style=\"width:50%;height:50%;\"> \n"
      ]
    },
    {
      "cell_type": "markdown",
      "metadata": {
        "id": "fTOlf1iKYYpx",
        "colab_type": "text"
      },
      "source": [
        "### Tài liệu tham khảo \n",
        "\n",
        "[1] [Linear Algebra for Deep Learning](https://towardsdatascience.com/linear-algebra-cheat-sheet-for-deep-learning-cd67aba4526c)\n",
        "\n",
        "[2] [Ôn tập đai số tuyến tính - Machine Learning Cơ Bản](https://machinelearningcoban.com)"
      ]
    }
  ]
}